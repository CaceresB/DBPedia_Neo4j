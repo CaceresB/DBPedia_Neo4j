{
 "cells": [
  {
   "cell_type": "markdown",
   "metadata": {},
   "source": [
    "Problems\n",
    "Wikipedia search ending different\n",
    "repitition n excel\n",
    "Update vs New file"
   ]
  },
  {
   "cell_type": "code",
   "execution_count": 1,
   "metadata": {
    "collapsed": false
   },
   "outputs": [],
   "source": [
    "##Packages\n",
    "import requests\n",
    "import unicodedata\n",
    "from xlrd import open_workbook\n",
    "import string\n",
    "import re\n",
    "import numpy\n",
    "from xlsxwriter import Workbook"
   ]
  },
  {
   "cell_type": "code",
   "execution_count": 2,
   "metadata": {
    "collapsed": true
   },
   "outputs": [],
   "source": [
    "def remSite(x):\n",
    "    return x.split('/')[-1].replace('_',' ')"
   ]
  },
  {
   "cell_type": "code",
   "execution_count": 3,
   "metadata": {
    "collapsed": true
   },
   "outputs": [],
   "source": [
    "def makeneo(x):\n",
    "    '''\n",
    "    makes input into neo4j compatible code'''\n",
    "    a= re.sub(\"[\\(\\[].*?[\\)\\]]\", \"\", rem_uni(x)).translate(None, \" \").translate(None, string.punctuation)\n",
    "    return a"
   ]
  },
  {
   "cell_type": "code",
   "execution_count": 4,
   "metadata": {
    "collapsed": false
   },
   "outputs": [],
   "source": [
    "#Define keys to look for\n",
    "wantedkeys=['http://dbpedia.org/ontology/birthDate',\n",
    "            'http://dbpedia.org/ontology/networth',\n",
    "            'http://dbpedia.org/ontology/residence',\n",
    "            'http://dbpedia.org/ontology/salary',\n",
    "            'http://dbpedia.org/ontology/spouse',\n",
    "            'http://dbpedia.org/ontology/nationality',\n",
    "            'http://dbpedia.org/property/nationality',\n",
    "            'http://xmlns.com/foaf/0.1/gender',\n",
    "            'http://dbpedia.org/ontology/almaMater',\n",
    "            'http://dbpedia.org/property/almaMater',\n",
    "            'http://dbpedia.org/property/knownFor',\n",
    "            'http://dbpedia.org/ontology/education',\n",
    "            'http://dbpedia.org/ontology/occupation',\n",
    "            'http://dbpedia.org/property/title',\n",
    "            'http://dbpedia.org/ontology/board',\n",
    "            'http://dbpedia.org/property/spouse',\n",
    "            'http://dbpedia.org/ontology/industry',\n",
    "            'http://dbpedia.org/ontology/product',\n",
    "            'http://dbpedia.org/property/areaServed',\n",
    "            'http://dbpedia.org/property/hqLocationCity',\n",
    "            'http://dbpedia.org/property/hqLocationCountry',\n",
    "            'http://dbpedia.org/ontology/assets',\n",
    "            'http://dbpedia.org/ontology/foundingYear',\n",
    "            'http://dbpedia.org/property/products',\n",
    "            'http://dbpedia.org/ontology/locationCity',\n",
    "            'http://dbpedia.org/ontology/locationCountry',\n",
    "            'http://dbpedia.org/ontology/regionServed',\n",
    "            'http://dbpedia.org/ontology/location',\n",
    "            'http://dbpedia.org/ontology/netIncome',\n",
    "            'http://dbpedia.org/ontology/city'\n",
    "           ]\n",
    "fieldnames=['name','Label','Name','InDB','Company']\n",
    "keys=[]\n",
    "for key in wantedkeys:\n",
    "    if remSite(key) not in keys:\n",
    "        keys+=[remSite(key)]\n",
    "fieldnames+=sorted(keys)\n",
    "values=['NA']*len(fieldnames)"
   ]
  },
  {
   "cell_type": "code",
   "execution_count": 6,
   "metadata": {
    "collapsed": false
   },
   "outputs": [],
   "source": [
    "def rem_uni(u):\n",
    "    '''\n",
    "    This function removes unicode & returns a string\n",
    "    '''\n",
    "    if type(u)== unicode:\n",
    "        s=unicodedata.normalize('NFKD',u).encode('ascii','ignore')\n",
    "    else:\n",
    "        s=str(u)\n",
    "    return s"
   ]
  },
  {
   "cell_type": "code",
   "execution_count": 7,
   "metadata": {
    "collapsed": false
   },
   "outputs": [],
   "source": [
    "def retrieve(name):\n",
    "    '''\n",
    "    Pulls data from dbpedia\n",
    "    '''\n",
    "    name=name.replace(' ','_')\n",
    "    req='http://dbpedia.org/data/'+name+'.json'\n",
    "    dat='http://dbpedia.org/resource/'+name\n",
    "    data = requests.get(req).json()\n",
    "    q_json = data[dat]\n",
    "    return q_json"
   ]
  },
  {
   "cell_type": "code",
   "execution_count": 8,
   "metadata": {
    "collapsed": false
   },
   "outputs": [],
   "source": [
    "def persondict(data, wantedkeys=wantedkeys,fieldnames=fieldnames):\n",
    "    '''\n",
    "    This function creates dictionary on person\n",
    "    '''\n",
    "    dic = {field:'NA' for field in fieldnames}\n",
    "    other=[]\n",
    "    others=[]\n",
    "    for key in sorted(data):\n",
    "        val=''\n",
    "        o=[]\n",
    "        if key in wantedkeys:\n",
    "            k=remSite(rem_uni(key))\n",
    "            for item in data[key]:\n",
    "                val+=' '+remSite(rem_uni(item['value']))\n",
    "                o+=[remSite(rem_uni(item['value']))]\n",
    "                if \"http://\" in rem_uni(item['value']):\n",
    "                    others+=o\n",
    "                    if [k,o] not in other:\n",
    "                        other+=[[k,o]]\n",
    "                dic[k]=val[1:]\n",
    "    return dic,other, others"
   ]
  },
  {
   "cell_type": "code",
   "execution_count": 9,
   "metadata": {
    "collapsed": false
   },
   "outputs": [],
   "source": [
    "def main(query, wantedkeys=wantedkeys):\n",
    "    r=retrieve(query)\n",
    "    d= persondict(r)\n",
    "    others=d[2]\n",
    "    other=d[1]\n",
    "    d=d[0]\n",
    "    d['Name']=query\n",
    "    d['InDB']='Y'\n",
    "    return d,other, others"
   ]
  },
  {
   "cell_type": "code",
   "execution_count": 10,
   "metadata": {
    "collapsed": false
   },
   "outputs": [],
   "source": [
    "info=open_workbook('C:\\Users\\cacerb1\\Documents\\EDO-Intern-Project\\Brittany\\Directors\\DBPedia\\TopTen.xlsx')\n",
    "info=info.sheets()[0]"
   ]
  },
  {
   "cell_type": "code",
   "execution_count": 11,
   "metadata": {
    "collapsed": false,
    "scrolled": true
   },
   "outputs": [],
   "source": [
    "nodes=[]\n",
    "companies=[]\n",
    "other=[]\n",
    "others=[]\n",
    "for r in range(1,info.nrows):\n",
    "    node=[]\n",
    "    query=rem_uni(info.cell(r,3).value)\n",
    "    company=rem_uni(info.cell(r,2).value)\n",
    "    name=makeneo(info.cell(r,0).value)\n",
    "    label=rem_uni(info.cell(r,1).value)\n",
    "    companies+=[company]\n",
    "    try:\n",
    "        node= main(query)\n",
    "        other+=[[name]+[[['Company',company]]+node[1]]]\n",
    "        others += node[2]\n",
    "        node=node[0]\n",
    "        node['name']=name\n",
    "        node['Company']=company\n",
    "        node['Label']=label\n",
    "    except KeyError:\n",
    "        node= {field:'NA' for field in fieldnames}\n",
    "        node['Name']=query\n",
    "        node['InDB']='N'\n",
    "        node['Company']=company\n",
    "        node['name']=name\n",
    "        node['Label']=label\n",
    "        other+=[[name]+[[['Company',company]]]]\n",
    "    nodes+=[node]"
   ]
  },
  {
   "cell_type": "code",
   "execution_count": 12,
   "metadata": {
    "collapsed": false,
    "scrolled": true
   },
   "outputs": [],
   "source": [
    "others_sorted=list(numpy.unique(others))\n",
    "testd=[]\n",
    "test1=[]\n",
    "test2=[]\n",
    "desc=[]\n",
    "for o in others_sorted:\n",
    "    if o[-1] =='1':\n",
    "        desc+=[o]\n",
    "    else:\n",
    "        try:\n",
    "            x=main(o)\n",
    "            d=x[0]\n",
    "            t1=x[1]\n",
    "            t2=x[2]\n",
    "            name=makeneo(o)\n",
    "            d['name']=name\n",
    "            d['Company']='NA'\n",
    "            d['Label']='Rel'\n",
    "            nodes+=[d]\n",
    "            test1+=[t1]\n",
    "            test2+=[t2]\n",
    "        except (KeyError, ValueError):\n",
    "            node= {field:'NA' for field in fieldnames}\n",
    "            node['InDB']='N'\n",
    "            node['Name']=o\n",
    "            node['name']=makeneo(o)\n",
    "            node['Label']='Rel'\n",
    "            nodes+=[node]"
   ]
  },
  {
   "cell_type": "code",
   "execution_count": 13,
   "metadata": {
    "collapsed": false
   },
   "outputs": [],
   "source": [
    "wb=Workbook(\"TopTenAttributes.xlsx\")\n",
    "a=wb.add_worksheet(\"Attributes\")\n",
    "for header in fieldnames:\n",
    "    col=fieldnames.index(header) # we are keeping order.\n",
    "    a.write(0,col,header)\n",
    "row=1\n",
    "for node in nodes:\n",
    "    for _key,_value in node.items():\n",
    "        col=fieldnames.index(_key)\n",
    "        a.write(row,col,_value)\n",
    "    row+=1 #enter the next row"
   ]
  },
  {
   "cell_type": "code",
   "execution_count": 14,
   "metadata": {
    "collapsed": false
   },
   "outputs": [],
   "source": [
    "r=wb.add_worksheet(\"Relationships\")\n",
    "heads=['Node A','Rel','Node B']\n",
    "for header in heads:\n",
    "    col=heads.index(header) # we are keeping order.\n",
    "    r.write(0,col,header)\n",
    "row=1\n",
    "for item in other:\n",
    "    for rel in item[1]:\n",
    "        if type(rel[1])==list:\n",
    "            for t in rel[1]:\n",
    "                if 'NA' not in t:\n",
    "                    if t[-1]!='1':\n",
    "                        r.write(row,0,makeneo(item[0]))\n",
    "                        r.write(row,1,rel[0])\n",
    "                        r.write(row,2,makeneo(t))\n",
    "                        row+=1 #enter the next row \n",
    "        elif 'NA' not in rel[1]:\n",
    "            if rel[1][-1] != '1':\n",
    "                a=rel[1]\n",
    "                r.write(row,0,makeneo(item[0]))\n",
    "                r.write(row,1,rel[0])\n",
    "                r.write(row,2,makeneo(rel[1]))\n",
    "                row+=1 #enter the next row \n",
    "wb.close()"
   ]
  }
 ],
 "metadata": {
  "kernelspec": {
   "display_name": "Python 2",
   "language": "python",
   "name": "python2"
  },
  "language_info": {
   "codemirror_mode": {
    "name": "ipython",
    "version": 2
   },
   "file_extension": ".py",
   "mimetype": "text/x-python",
   "name": "python",
   "nbconvert_exporter": "python",
   "pygments_lexer": "ipython2",
   "version": "2.7.13"
  }
 },
 "nbformat": 4,
 "nbformat_minor": 2
}
