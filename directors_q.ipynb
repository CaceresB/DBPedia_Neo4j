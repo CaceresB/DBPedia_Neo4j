{
 "cells": [
  {
   "cell_type": "code",
   "execution_count": 1,
   "metadata": {
    "collapsed": true
   },
   "outputs": [],
   "source": [
    "# Libraries\n",
    "import unicodedata\n",
    "from xlrd import open_workbook\n",
    "import os"
   ]
  },
  {
   "cell_type": "code",
   "execution_count": 2,
   "metadata": {
    "collapsed": true
   },
   "outputs": [],
   "source": [
    "def rem_uni(u):\n",
    "    '''\n",
    "    this function removes unicode and returns a string\n",
    "    '''\n",
    "    return unicodedata.normalize('NFKD',u).encode('ascii','ignore')"
   ]
  },
  {
   "cell_type": "code",
   "execution_count": 3,
   "metadata": {
    "collapsed": false
   },
   "outputs": [],
   "source": [
    "#setup\n",
    "all = open_workbook('C:\\Users\\\\cacerb1\\Documents\\EDO-Intern-Project\\Brittany\\Directors\\DBPedia\\TopTenAttributes.xlsx')\n",
    "os.chdir('C:\\\\Users\\cacerb1\\Documents\\EDO-Intern-Project\\Brittany\\Directors\\DBPedia')"
   ]
  },
  {
   "cell_type": "code",
   "execution_count": 4,
   "metadata": {
    "collapsed": true
   },
   "outputs": [],
   "source": [
    "def make_nodes(s):\n",
    "    '''\n",
    "    Generatres Cypher code for nodes\n",
    "    '''\n",
    "    query='CREATE '\n",
    "    for r in range (1,s.nrows):\n",
    "        q='('+rem_uni(s.cell(r,0).value)+':'+rem_uni(s.cell(r,1).value)+' { '\n",
    "        for c in range(2,s.ncols):\n",
    "            if s.cell(r,c).value!= 'NA':\n",
    "                q+= rem_uni(s.cell(0,c).value)+': \"'+rem_uni(s.cell(r,c).value)+'\", '\n",
    "        q=q[0:-2]\n",
    "        q+=' }),'\n",
    "        query+=q\n",
    "    return query[0:-1]"
   ]
  },
  {
   "cell_type": "code",
   "execution_count": 5,
   "metadata": {
    "collapsed": true
   },
   "outputs": [],
   "source": [
    "def make_rel(s):\n",
    "    '''\n",
    "    Generates Cypher Code for relationships'''\n",
    "    a='CREATE'\n",
    "    for r in range (1,s.nrows):\n",
    "        q='('+rem_uni(s.cell(r,0).value)+')-[:'+rem_uni(s.cell(r,1).value)+']->('+rem_uni(s.cell(r,2).value)+'), '\n",
    "        a+=q\n",
    "    return a[0:-2]"
   ]
  },
  {
   "cell_type": "code",
   "execution_count": 6,
   "metadata": {
    "collapsed": true
   },
   "outputs": [],
   "source": [
    "#Make the Cypher\n",
    "entry= make_nodes(all.sheets()[0])\n",
    "rel= make_rel(all.sheets()[1])"
   ]
  },
  {
   "cell_type": "code",
   "execution_count": 7,
   "metadata": {
    "collapsed": false
   },
   "outputs": [],
   "source": [
    "with open('dquery.txt',\"wt\") as out:\n",
    "    out.write(entry+rel)"
   ]
  },
  {
   "cell_type": "code",
   "execution_count": 8,
   "metadata": {
    "collapsed": false
   },
   "outputs": [],
   "source": [
    "from neo4j.v1 import GraphDatabase\n",
    "\n",
    "driver = GraphDatabase.driver(\"bolt://localhost:7687\", auth=(\"neo4j\", \"Anc1r3a.\"))\n",
    "\n",
    "def create(tx,s):\n",
    "    tx.run(s)\n",
    "    \n",
    "with driver.session() as session:\n",
    "    session.write_transaction(create,'MATCH (n) DETACH DELETE n')\n",
    "    session.write_transaction(create,entry+rel)"
   ]
  },
  {
   "cell_type": "code",
   "execution_count": null,
   "metadata": {
    "collapsed": true
   },
   "outputs": [],
   "source": []
  }
 ],
 "metadata": {
  "kernelspec": {
   "display_name": "Python 2",
   "language": "python",
   "name": "python2"
  },
  "language_info": {
   "codemirror_mode": {
    "name": "ipython",
    "version": 2
   },
   "file_extension": ".py",
   "mimetype": "text/x-python",
   "name": "python",
   "nbconvert_exporter": "python",
   "pygments_lexer": "ipython2",
   "version": "2.7.13"
  }
 },
 "nbformat": 4,
 "nbformat_minor": 2
}
